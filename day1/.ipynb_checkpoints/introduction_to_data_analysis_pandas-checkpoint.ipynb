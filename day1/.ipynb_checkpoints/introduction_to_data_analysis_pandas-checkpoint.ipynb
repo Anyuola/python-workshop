{
 "cells": [
  {
   "cell_type": "markdown",
   "metadata": {},
   "source": [
    "# Using Pandas Package to Analyze Dataframes"
   ]
  },
  {
   "cell_type": "markdown",
   "metadata": {},
   "source": [
    "This notebook will take you through the process of reading in text data (comma separated values also known as .csv) using pnadas module. By the end of this exercise it is expected that you will be able to "
   ]
  },
  {
   "cell_type": "code",
   "execution_count": 1,
   "metadata": {},
   "outputs": [],
   "source": [
    "import pandas as pd  ## Main package used for dataframes in Python\n",
    "\n",
    "# help(pd)       ## Will provide more details about the package"
   ]
  },
  {
   "cell_type": "code",
   "execution_count": 45,
   "metadata": {},
   "outputs": [],
   "source": [
    "## Read in some data\n",
    "\n",
    "# help(pd.read_csv)    ## Querry the function for reading csv files\n",
    "\n",
    "df = pd.read_csv('../data/pr_AFR-44_CCCma-CanESM2_historical_SMHI-RCA4__mon_1951-2005_Emali.csv', sep=',')#;df"
   ]
  },
  {
   "cell_type": "code",
   "execution_count": 46,
   "metadata": {},
   "outputs": [],
   "source": [
    "## Convert the Dates column to Pandas Datetime object and make that column an index\n",
    "\n",
    "df['Dates'] = pd.to_datetime(df['Dates'])      ## Convert to a DatetTime object\n",
    "df = df.set_index('Dates')#;df                  ## Setting the 'Dates' column as an index"
   ]
  },
  {
   "cell_type": "code",
   "execution_count": 43,
   "metadata": {},
   "outputs": [],
   "source": [
    "## Select the months in March to May season using a condition\n",
    "\n",
    "df_mam = df.iloc[((df.index.month >= 3) & (df.index.month <= 5))]#;df_mam"
   ]
  },
  {
   "cell_type": "code",
   "execution_count": 51,
   "metadata": {},
   "outputs": [],
   "source": [
    "## Group by year and get the annual MAM rainfall totals. Use mean for temperature\n",
    "\n",
    "ann_mam = df_mam.groupby(df_mam.index.year).sum()#;ann_mam\n",
    "\n",
    "# adding column name to the respective column\n",
    "\n",
    "ann_mam.columns =['mam']#;ann_mam"
   ]
  },
  {
   "cell_type": "markdown",
   "metadata": {},
   "source": [
    "## Plotting the inter-annual variability in MAM season"
   ]
  },
  {
   "cell_type": "code",
   "execution_count": 53,
   "metadata": {},
   "outputs": [],
   "source": [
    "import matplotlib.pyplot as plt"
   ]
  },
  {
   "cell_type": "code",
   "execution_count": null,
   "metadata": {},
   "outputs": [],
   "source": [
    "# Create figure and plot space\n",
    "fig, ax = plt.subplots(figsize=(10, 10))\n",
    "\n",
    "# Add x-axis and y-axis\n",
    "ax.plot(ann_mam.index.values,\n",
    "       ann_mam['mam'],\n",
    "       color='purple')\n",
    "\n",
    "# Set title and labels for axes\n",
    "ax.set(xlabel=\"Years\",\n",
    "       ylabel=\"Precipitation (mm)\",\n",
    "       title=\"Total Rainfall for MAM Season\")\n",
    "\n",
    "# Rotate tick marks on x-axis\n",
    "plt.setp(ax.get_xticklabels(), rotation=45)\n",
    "\n",
    "plt.show()"
   ]
  },
  {
   "cell_type": "markdown",
   "metadata": {},
   "source": [
    "## Exercise \n",
    "\n",
    "- Repeat the process above and add the JJAS and OND seasons to the same plot using a diferent color and line type.\n",
    "- Repear the process for Emali station but add the different climate models (i.e four climate models) in the same plot (remember that you cannot use the same variable name to assign different values, i.e. use df1, df2, and so on for multiple datasets/models).\n",
    "- Calculate the anomalies (i.e deviation of each mam/ond/jjas value from the long-term mean of 1981-2010) and plot.\n",
    "- Repeat the process but plot the annual cycle i.e (long-term mean rainfall amounts for each month versus the months).\n",
    "- Load the temperature data and repeat the above.\n",
    "- Save the plots in png format in the ./plots folder.\n",
    "\n",
    "Use the cells below for the exercies."
   ]
  },
  {
   "cell_type": "code",
   "execution_count": null,
   "metadata": {},
   "outputs": [],
   "source": []
  }
 ],
 "metadata": {
  "kernelspec": {
   "display_name": "Python 3",
   "language": "python",
   "name": "python3"
  },
  "language_info": {
   "codemirror_mode": {
    "name": "ipython",
    "version": 3
   },
   "file_extension": ".py",
   "mimetype": "text/x-python",
   "name": "python",
   "nbconvert_exporter": "python",
   "pygments_lexer": "ipython3",
   "version": "3.7.6"
  }
 },
 "nbformat": 4,
 "nbformat_minor": 4
}

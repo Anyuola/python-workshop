{
 "cells": [
  {
   "cell_type": "code",
   "execution_count": null,
   "id": "37cd938c",
   "metadata": {},
   "outputs": [],
   "source": [
    "import xarray as xr\n",
    "\n",
    "min_lon = 28.687245\n",
    "min_lat = -2.234092\n",
    "max_lon = 36.033808\n",
    "max_lat = 5.090975\n",
    "\n",
    "\n",
    "ncfiles=['chirps-v2.0.2010.days_p05.nc','chirps-v2.0.2015.days_p05.nc','chirps-v2.0.2019.days_p05.nc',  'chirps-v2.0.2022.days_p05.nc',\n",
    "'chirps-v2.0.2013.days_p05.nc','chirps-v2.0.2017.days_p05.nc','chirps-v2.0.2020.days_p05.nc','chirps-v2.0.2023.days_p05.nc',\n",
    "'chirps-v2.0.2014.days_p05.nc','chirps-v2.0.2018.days_p05.nc','chirps-v2.0.2021.days_p05.nc']\n",
    "\n",
    "\n",
    "for ncfl in ncfiles:\n",
    "    db=xr.open_dataset(ncfl)\n",
    "    ea_db = db.sel(latitude=slice(min_lat,max_lat), longitude=slice(min_lon,max_lon))\n",
    "    local_path_nc=f'/home/ea_chrips/{ncfl}'\n",
    "    ea_db.to_netcdf(local_path_nc)"
   ]
  },
  {
   "cell_type": "code",
   "execution_count": null,
   "id": "7b06279a",
   "metadata": {},
   "outputs": [],
   "source": [
    "https://data.chc.ucsb.edu/products/CHIRPS-2.0/global_daily/netcdf/p05/chirps-v2.0.2007.days_p05.nc\n"
   ]
  },
  {
   "cell_type": "code",
   "execution_count": null,
   "id": "68bc677f",
   "metadata": {},
   "outputs": [],
   "source": [
    "\n",
    "import xarray as xr\n",
    "db=xr.open_dataset('chirps-v2.0.2010.days_p05.nc')\n",
    "min_lon = 28.687245\n",
    "min_lat = -2.234092\n",
    "max_lon = 36.033808\n",
    "max_lat = 5.090975\n",
    "ea_db = db.sel(latitude=slice(min_lat,max_lat), longitude=slice(min_lon,max_lon))\n",
    "\n",
    "local_path_nc=f'/home/ea_chrips/test1.nc'\n",
    "ea_db.to_netcdf(local_path_nc)"
   ]
  },
  {
   "cell_type": "code",
   "execution_count": null,
   "id": "cc9da32f",
   "metadata": {
    "ExecuteTime": {
     "end_time": "2023-04-16T05:10:40.023924Z",
     "start_time": "2023-04-16T05:10:39.999400Z"
    }
   },
   "outputs": [],
   "source": [
    "import xarray as xr\n",
    "\n",
    "\n",
    "db=xr.open_dataset('/home/chirps-v2.0.2022.days_p05.nc')\n",
    "\n",
    "db"
   ]
  },
  {
   "cell_type": "markdown",
   "id": "29515554",
   "metadata": {},
   "source": [
    "## subset for each district\n",
    "### test district subset "
   ]
  },
  {
   "cell_type": "code",
   "execution_count": null,
   "id": "9707a9ef",
   "metadata": {
    "ExecuteTime": {
     "end_time": "2023-04-18T08:05:44.824444Z",
     "start_time": "2023-04-18T08:05:43.363016Z"
    }
   },
   "outputs": [],
   "source": [
    "import rioxarray\n",
    "import geopandas\n",
    "import matplotlib.pyplot as plt\n",
    "import cartopy.crs as ccrs\n",
    "\n",
    "geodf = geopandas.read_file('/home/karamoja_admin_shapefiles/Karamoja_9_districts/Karamoja_9_districts.shp')\n",
    "xds = rioxarray.open_rasterio('/home/chrips/chirps-v2.0.2010.days_p05.nc')\n",
    "\n",
    "geodf.set_crs(epsg=4326,inplace=True)\n",
    "\n",
    "xds.rio.write_crs(\"epsg:4326\",inplace=True)\n",
    "\n",
    "# for idx, row in geodf.iterrows():\n",
    "#     clipped = xds.rio.clip(geodf.geometry.values, geodf.crs)\n",
    "#     dist_name=row['admin2Name']\n",
    "#     local_path_nc=f'/home/chrips/dist_clips/{dist_name.lower()}.nc'\n",
    "#     cds=clipped.to_dataset()\n",
    "#     cds.to_netcdf(local_path_nc)\n",
    "#     clipped=[]\n",
    "fig=plt.figure(figsize=(10,10))\n",
    "\n",
    "ax1=fig.add_subplot(331,projection=ccrs.PlateCarree())\n",
    "clipped = xds.rio.clip([geodf.geometry.values[0]], geodf.crs)\n",
    "cds=clipped.to_dataset()\n",
    "cds1=cds.sel(time=slice('2010-01-01'))\n",
    "cds1['precip'].sel(time=cds1['time'][0]).plot(ax=ax1,add_colorbar=False)\n",
    "#legend()\n",
    "#plt.title(geodf['admin2Name'].values[0])\n",
    "ax1.legend().set_visible(False)\n",
    "plotname=geodf['admin2Name'].values[0]\n",
    "x=cds.sizes['x']\n",
    "y=cds.sizes['y']\n",
    "#plt.legend('',frameon=False)\n",
    "\n",
    "plt.title(f'{plotname} with pixels {x} X {y}')\n",
    "#legend()\n",
    "#\n",
    "ax2=fig.add_subplot(332,projection=ccrs.PlateCarree())\n",
    "clipped = xds.rio.clip([geodf.geometry.values[1]], geodf.crs)\n",
    "cds=clipped.to_dataset()\n",
    "cds['precip'].sel(time=cds['time'][0]).plot(add_colorbar=False,ax=ax2)\n",
    "plotname=geodf['admin2Name'].values[1]\n",
    "x=cds.sizes['x']\n",
    "y=cds.sizes['y']\n",
    "plt.title(f'{plotname} with pixels {x} X {y}')\n",
    "#\n",
    "ax3=fig.add_subplot(333,projection=ccrs.PlateCarree())\n",
    "clipped = xds.rio.clip([geodf.geometry.values[2]], geodf.crs)\n",
    "cds=clipped.to_dataset()\n",
    "cds['precip'].sel(time=cds['time'][0]).plot(add_colorbar=False,ax=ax3)\n",
    "plotname=geodf['admin2Name'].values[2]\n",
    "x=cds.sizes['x']\n",
    "y=cds.sizes['y']\n",
    "plt.title(f'{plotname} with pixels {x} X {y}')\n",
    "#\n",
    "ax4=fig.add_subplot(334,projection=ccrs.PlateCarree())\n",
    "clipped = xds.rio.clip([geodf.geometry.values[3]], geodf.crs)\n",
    "cds=clipped.to_dataset()\n",
    "cds['precip'].sel(time=cds['time'][0]).plot(add_colorbar=False,ax=ax4)\n",
    "plotname=geodf['admin2Name'].values[3]\n",
    "x=cds.sizes['x']\n",
    "y=cds.sizes['y']\n",
    "plt.title(f'{plotname} with pixels {x} X {y}')\n",
    "#\n",
    "ax5=fig.add_subplot(335,projection=ccrs.PlateCarree())\n",
    "clipped = xds.rio.clip([geodf.geometry.values[4]], geodf.crs)\n",
    "cds=clipped.to_dataset()\n",
    "cds['precip'].sel(time=cds['time'][0]).plot(add_colorbar=False,ax=ax5)\n",
    "plotname=geodf['admin2Name'].values[4]\n",
    "x=cds.sizes['x']\n",
    "y=cds.sizes['y']\n",
    "plt.title(f'{plotname} with pixels {x} X {y}')\n",
    "#\n",
    "ax6=fig.add_subplot(336,projection=ccrs.PlateCarree())\n",
    "clipped = xds.rio.clip([geodf.geometry.values[5]], geodf.crs)\n",
    "cds=clipped.to_dataset()\n",
    "cds['precip'].sel(time=cds['time'][0]).plot(add_colorbar=False,ax=ax6)\n",
    "plotname=geodf['admin2Name'].values[5]\n",
    "x=cds.sizes['x']\n",
    "y=cds.sizes['y']\n",
    "plt.title(f'{plotname} with pixels {x} X {y}')\n",
    "#\n",
    "ax7=fig.add_subplot(337,projection=ccrs.PlateCarree())\n",
    "clipped = xds.rio.clip([geodf.geometry.values[6]], geodf.crs)\n",
    "cds=clipped.to_dataset()\n",
    "cds['precip'].sel(time=cds['time'][0]).plot(add_colorbar=False,ax=ax7)\n",
    "plotname=geodf['admin2Name'].values[6]\n",
    "x=cds.sizes['x']\n",
    "y=cds.sizes['y']\n",
    "plt.title(f'{plotname} with pixels {x} X {y}')\n",
    "#\n",
    "ax8=fig.add_subplot(338,projection=ccrs.PlateCarree())\n",
    "clipped = xds.rio.clip([geodf.geometry.values[7]], geodf.crs)\n",
    "cds=clipped.to_dataset()\n",
    "cds['precip'].sel(time=cds['time'][0]).plot(add_colorbar=False,ax=ax8)\n",
    "plotname=geodf['admin2Name'].values[7]\n",
    "x=cds.sizes['x']\n",
    "y=cds.sizes['y']\n",
    "plt.title(f'{plotname} with pixels {x} X {y}')\n",
    "#\n",
    "ax9=fig.add_subplot(339,projection=ccrs.PlateCarree())\n",
    "clipped = xds.rio.clip([geodf.geometry.values[8]], geodf.crs)\n",
    "cds=clipped.to_dataset()\n",
    "cds['precip'].sel(time=cds['time'][0]).plot(add_colorbar=False,ax=ax9)\n",
    "plotname=geodf['admin2Name'].values[8]\n",
    "x=cds.sizes['x']\n",
    "y=cds.sizes['y']\n",
    "plt.title(f'{plotname} with pixels {x} X {y}')\n"
   ]
  },
  {
   "cell_type": "code",
   "execution_count": null,
   "id": "af98ff29",
   "metadata": {
    "ExecuteTime": {
     "end_time": "2023-04-17T11:34:39.700586Z",
     "start_time": "2023-04-17T11:34:39.670567Z"
    }
   },
   "outputs": [],
   "source": [
    "cds1=cds.loc[{\"time\":cds.time.dt.month==2}]\n",
    "cds2=cds1.loc[{\"time\":cds1.time.dt.day==28}]\n",
    "cds2['time'].dt.strftime('%Y%m%d').values[0]\n",
    "cds2['precip'].min()\n",
    "\n",
    "cds3=cds2.where((cds>-9999), drop=True)\n",
    "#cds2['precip']\n",
    "\n",
    "cds3['precip'].mean().values"
   ]
  },
  {
   "cell_type": "code",
   "execution_count": null,
   "id": "b241c04c",
   "metadata": {
    "ExecuteTime": {
     "end_time": "2023-04-17T10:19:35.454299Z",
     "start_time": "2023-04-17T10:19:35.012464Z"
    }
   },
   "outputs": [],
   "source": [
    "cds['precip'].sel(time=cds['time'][0]).plot()"
   ]
  },
  {
   "cell_type": "code",
   "execution_count": null,
   "id": "b188ec7d",
   "metadata": {
    "ExecuteTime": {
     "end_time": "2023-04-17T09:08:14.177548Z",
     "start_time": "2023-04-17T09:08:14.159703Z"
    }
   },
   "outputs": [],
   "source": [
    "\n",
    "xds"
   ]
  },
  {
   "cell_type": "code",
   "execution_count": null,
   "id": "b15d544e",
   "metadata": {
    "ExecuteTime": {
     "end_time": "2023-04-18T00:19:20.830565Z",
     "start_time": "2023-04-18T00:19:20.822583Z"
    }
   },
   "outputs": [],
   "source": [
    "from datetime import datetime\n",
    "int(datetime.strptime('202003', '%Y%m').date().strftime('%-m'))"
   ]
  },
  {
   "cell_type": "code",
   "execution_count": null,
   "id": "5d05cebd",
   "metadata": {
    "ExecuteTime": {
     "end_time": "2023-04-18T10:40:35.909260Z",
     "start_time": "2023-04-18T10:40:35.705093Z"
    }
   },
   "outputs": [],
   "source": [
    "import xarray as xr\n",
    "import geopandas as gp\n",
    "import rioxarray\n",
    "\n",
    "dist_name='NAKAPIRIPIRIT'\n",
    "year='2018'\n",
    "month=10\n",
    "\n",
    "ncfile_path='/home/UGA/'\n",
    "\n",
    "geodf = gp.read_file(f'{ncfile_path}karamoja_admin_shapefiles/Karamoja_9_districts/Karamoja_9_districts.shp')\n",
    "geodf1=geodf[geodf['admin2Name']==dist_name.title()]\n",
    "geodf.set_crs(epsg=4326,inplace=True)\n",
    "\n",
    "\n",
    "\n",
    "xds = rioxarray.open_rasterio(f'{ncfile_path}chrips/chirps-v2.0.{year}.days_p05.nc')\n",
    "xds.rio.write_crs(\"epsg:4326\",inplace=True)\n",
    "clipped = xds.rio.clip([geodf1.geometry.values[0]], geodf.crs)\n",
    "cds=clipped.to_dataset()\n",
    "#cds['precip'].sel(time=cds['time'][0]).plot(ax=ax8)\n",
    "#plotname=geodf1['admin2Name'].values[0]\n",
    "\n",
    "cds1=cds.loc[{\"time\":cds.time.dt.month==month}]\n",
    "\n",
    "cds2=cds1.loc[{\"time\":cds1.time.dt.day==28}]\n",
    "cds3=cds2.where((cds>-9999), drop=True)\n",
    "\n",
    "cds2['time'].dt.strftime('%Y%m%d').values[0]\n",
    "cds2['precip'].min()\n",
    "\n",
    "#month=int(datetime.strptime(str(row['date']), '%Y%m').date().strftime('%-m'))\n",
    "cds1=cds.loc[{\"time\":cds.time.dt.month==month}]\n",
    "cds1n=cds1.where((cds1>-9999), drop=True)\n",
    "cdb=cds1n.to_dataframe()\n",
    "cdb1=cdb.reset_index()\n",
    "#         cdb_mean = cdb1.groupby([cdb1['time']])['precip'].mean()\n",
    "#         cdb_min = cdb1.groupby([cdb1['time']])['precip'].std()\n",
    "#         cdb_max = cdb1.groupby([cdb1['time']])['precip'].max()\n",
    "#         db=pd.concat([cdb_mean, cdb_min,cdb_max], axis=1)\n",
    "#         db1=db.reset_index()\n",
    "#         db1.columns=['time','avg','min','max']\n",
    "cdb1.to_csv(f'{output_folder}{dist_name.lower()}_{year}_{month}.csv')\n",
    "\n",
    "print(f'{output_folder}{dist_name.lower()}_{year}_{month}.csv')"
   ]
  },
  {
   "cell_type": "code",
   "execution_count": null,
   "id": "0b6885ea",
   "metadata": {
    "ExecuteTime": {
     "end_time": "2023-04-18T01:38:19.878072Z",
     "start_time": "2023-04-18T01:38:19.811485Z"
    }
   },
   "outputs": [],
   "source": [
    "import pandas as pd\n",
    "\n",
    "cds1n=cds1.where((cds1>-9999), drop=True)\n",
    "cdb=cds1n.to_dataframe()\n",
    "cdb1=cdb.reset_index()\n",
    "cdb_mean = cdb1.groupby([cdb1['time']])['precip'].mean()\n",
    "cdb_min = cdb1.groupby([cdb1['time']])['precip'].std()\n",
    "cdb_max = cdb1.groupby([cdb1['time']])['precip'].max()\n",
    "\n",
    "db=pd.concat([cdb_mean, cdb_min,cdb_max], axis=1)\n",
    "db1=db.reset_index()\n",
    "db1.columns=['time','avg','min','max']\n",
    "db1"
   ]
  },
  {
   "cell_type": "code",
   "execution_count": null,
   "id": "f93c9083",
   "metadata": {
    "ExecuteTime": {
     "end_time": "2023-04-18T04:43:52.239068Z",
     "start_time": "2023-04-18T04:42:45.570841Z"
    }
   },
   "outputs": [],
   "source": [
    "import pandas as pd\n",
    "\n",
    "kmj_db=pd.read_excel('/home/UGA/hazard_risk/kmj_impact_report.xlsx', sheet_name='Sheet1')\n",
    "\n",
    "kmj_db['date1']=pd.to_datetime(kmj_db['date'],format='%Y%m')\n",
    "kmj_db['year']=kmj_db['date1'].dt.year\n",
    "kmj_db1=kmj_db.drop_duplicates('year')\n",
    "\n",
    "year_list=kmj_db1['year'].tolist()\n",
    "\n",
    "ncfile_path='/home/UGA/'\n",
    "geodf = gp.read_file(f'{ncfile_path}karamoja_admin_shapefiles/Karamoja_9_districts/Karamoja_9_districts.shp')\n",
    "geodf.set_crs(epsg=4326,inplace=True)\n",
    "\n",
    "output_folder='/home/UGA/chrips/raw_dist/'\n",
    "\n",
    "for year in year_list:\n",
    "    db_year=kmj_db[kmj_db['year']==year]\n",
    "    xds = rioxarray.open_rasterio(f'{ncfile_path}chrips/chirps-v2.0.{year}.days_p05.nc')\n",
    "    xds.rio.write_crs(\"epsg:4326\",inplace=True)\n",
    "    for idx, row in db_year.iterrows():\n",
    "        dist_name=row['district']\n",
    "        geodf1=geodf[geodf['admin2Name']==dist_name.title()]\n",
    "        clipped = xds.rio.clip([geodf1.geometry.values[0]], geodf.crs)\n",
    "        cds=clipped.to_dataset()\n",
    "        month=int(datetime.strptime(str(row['date']), '%Y%m').date().strftime('%-m'))\n",
    "        cds1=cds.loc[{\"time\":cds.time.dt.month==month}]\n",
    "        cds1n=cds1.where((cds1>-9999), drop=True)\n",
    "        cdb=cds1n.to_dataframe()\n",
    "        cdb1=cdb.reset_index()\n",
    "#         cdb_mean = cdb1.groupby([cdb1['time']])['precip'].mean()\n",
    "#         cdb_min = cdb1.groupby([cdb1['time']])['precip'].std()\n",
    "#         cdb_max = cdb1.groupby([cdb1['time']])['precip'].max()\n",
    "#         db=pd.concat([cdb_mean, cdb_min,cdb_max], axis=1)\n",
    "#         db1=db.reset_index()\n",
    "#         db1.columns=['time','avg','min','max']\n",
    "        cdb1.to_csv(f'{output_folder}{dist_name.lower()}_{year}_{month}.csv')"
   ]
  },
  {
   "cell_type": "code",
   "execution_count": null,
   "id": "1031d3c6",
   "metadata": {
    "ExecuteTime": {
     "end_time": "2023-04-18T01:42:30.440873Z",
     "start_time": "2023-04-18T01:42:30.425029Z"
    }
   },
   "outputs": [],
   "source": [
    "db_year"
   ]
  },
  {
   "cell_type": "code",
   "execution_count": null,
   "id": "d342f44a",
   "metadata": {
    "ExecuteTime": {
     "end_time": "2023-04-18T04:39:24.179927Z",
     "start_time": "2023-04-18T04:39:24.165473Z"
    }
   },
   "outputs": [],
   "source": [
    "cdb1"
   ]
  },
  {
   "cell_type": "code",
   "execution_count": null,
   "id": "cca8cf18",
   "metadata": {
    "ExecuteTime": {
     "end_time": "2023-04-18T05:01:20.602242Z",
     "start_time": "2023-04-18T05:01:20.586514Z"
    }
   },
   "outputs": [],
   "source": [
    "kmj_db['test']=kmj_db['district']+kmj_db['date'].astype(str)\n",
    "kmj_db1=kmj_db.drop_duplicates('test')\n",
    "kmj_db1.info()"
   ]
  },
  {
   "cell_type": "markdown",
   "id": "0dbe2ec7",
   "metadata": {},
   "source": [
    "# plotting of chrips data"
   ]
  },
  {
   "cell_type": "code",
   "execution_count": null,
   "id": "6bc78d8f",
   "metadata": {},
   "outputs": [],
   "source": []
  },
  {
   "cell_type": "code",
   "execution_count": null,
   "id": "f5fdc235",
   "metadata": {
    "ExecuteTime": {
     "end_time": "2023-04-18T05:03:05.270714Z",
     "start_time": "2023-04-18T05:03:05.254942Z"
    }
   },
   "outputs": [],
   "source": [
    "kmj_db['date1']=pd.to_datetime(kmj_db['date'],format='%Y%m')\n",
    "kmj_db['year']=kmj_db['date1'].dt.year\n",
    "kmj_db1=kmj_db.drop_duplicates('year')\n",
    "\n",
    "kmj_db1.sort_values('year')\n",
    "                            "
   ]
  },
  {
   "cell_type": "code",
   "execution_count": null,
   "id": "b23c8099",
   "metadata": {
    "ExecuteTime": {
     "end_time": "2023-04-18T05:03:49.116930Z",
     "start_time": "2023-04-18T05:03:49.104722Z"
    }
   },
   "outputs": [],
   "source": [
    "db_year=kmj_db[kmj_db['year']==2022]\n",
    "db_year"
   ]
  },
  {
   "cell_type": "code",
   "execution_count": null,
   "id": "feaa1bfe",
   "metadata": {
    "ExecuteTime": {
     "end_time": "2023-04-18T06:46:18.269886Z",
     "start_time": "2023-04-18T06:46:18.232145Z"
    }
   },
   "outputs": [],
   "source": [
    "kmj_db=pd.read_excel('/home/UGA/hazard_risk/kmj_impact_report.xlsx', sheet_name='Sheet1')\n",
    "\n",
    "kmj_db[56:]"
   ]
  },
  {
   "cell_type": "code",
   "execution_count": null,
   "id": "388f65aa",
   "metadata": {
    "ExecuteTime": {
     "end_time": "2023-04-18T06:50:08.667087Z",
     "start_time": "2023-04-18T06:49:55.249660Z"
    }
   },
   "outputs": [],
   "source": [
    "import pandas as pd\n",
    "import matplotlib.pyplot as plt\n",
    "import pylab\n",
    "\n",
    "\n",
    "kmj_db=pd.read_excel('/home/UGA/hazard_risk/kmj_impact_report.xlsx', sheet_name='Sheet1')\n",
    "\n",
    "kmj_db['date1']=pd.to_datetime(kmj_db['date'],format='%Y%m')\n",
    "kmj_db['year']=kmj_db['date1'].dt.year\n",
    "#kmj_db1=kmj_db.drop_duplicates('year')\n",
    "\n",
    "year_list=kmj_db1['year'].tolist()\n",
    "\n",
    "kmj_db['test']=kmj_db['district']+kmj_db['date'].astype(str)\n",
    "kmj_db1=kmj_db.drop_duplicates('test')\n",
    "\n",
    "input_folder='/home/UGA/chrips/raw_dist/'\n",
    "\n",
    "output_folder='/home/UGA/chrips/plot_dist/'\n",
    "for idx, row in kmj_db[56:].iterrows():\n",
    "    year=row['year']\n",
    "    dist_name=row['district']\n",
    "    month=int(datetime.strptime(str(row['date']), '%Y%m').date().strftime('%-m'))\n",
    "    db=pd.read_csv(f'{input_folder}{dist_name.lower()}_{year}_{month}.csv')\n",
    "    #db.boxplot(column='price', by='location')\n",
    "    #fig = plt.figure()\n",
    "    #fig.suptitle('test title', fontsize=20)\n",
    "    db['Date']= pd.to_datetime(db['time'])\n",
    "    db['Date']=db[\"Date\"].dt.strftime('%Y-%m-%d')\n",
    "    axes = db.boxplot(column='precip', by='Date',rot=90, fontsize=15,figsize=(16, 11))\n",
    "    title_boxplot = dist_name\n",
    "    plt.title( title_boxplot )\n",
    "    plt.suptitle('') # that's what you're after\n",
    "    #plt.show()\n",
    "    pylab.savefig(f'{output_folder}{dist_name.lower()}_{year}_{month}.png')"
   ]
  },
  {
   "cell_type": "code",
   "execution_count": null,
   "id": "6bd6f8b6",
   "metadata": {
    "ExecuteTime": {
     "end_time": "2023-04-18T10:42:11.702094Z",
     "start_time": "2023-04-18T10:42:10.926490Z"
    }
   },
   "outputs": [],
   "source": [
    "db=pd.read_csv('/home/UGA/chrips/raw_dist/nakapiripirit_2018_10.csv')\n",
    "#db.boxplot(column='price', by='location')\n",
    "#fig = plt.figure()\n",
    "#fig.suptitle('test title', fontsize=20)\n",
    "db['Date']= pd.to_datetime(db['time'])\n",
    "db['Date']=db[\"Date\"].dt.strftime('%Y-%m-%d')\n",
    "axes = db.boxplot(column='precip', by='Date',rot=90, fontsize=15,figsize=(16, 11))\n",
    "title_boxplot = dist_name\n",
    "plt.title( title_boxplot )\n",
    "plt.suptitle('') # that's what you're after\n",
    "#plt.show()\n",
    "pylab.savefig(f'{output_folder}{dist_name.lower()}_{year}_{month}.png')"
   ]
  },
  {
   "cell_type": "code",
   "execution_count": null,
   "id": "97b5e331",
   "metadata": {
    "ExecuteTime": {
     "end_time": "2023-04-18T06:31:54.355319Z",
     "start_time": "2023-04-18T06:31:54.336638Z"
    }
   },
   "outputs": [],
   "source": [
    "kmj_db1=kmj_db.drop_duplicates('district')\n",
    "aa=kmj_db1.sort_values('district')\n",
    "aa"
   ]
  },
  {
   "cell_type": "code",
   "execution_count": null,
   "id": "b1357054",
   "metadata": {
    "ExecuteTime": {
     "end_time": "2023-04-18T08:15:25.842401Z",
     "start_time": "2023-04-18T08:15:25.770377Z"
    }
   },
   "outputs": [],
   "source": [
    "from PIL import Image\n",
    "\n",
    "im=Image.open('/home/UGA/chrips/plot_dist/abim_2017_7.png')\n",
    "\n",
    "im=im.crop((1,1,w,h-130))\n",
    "\n",
    "im.save('/home/UGA/chrips/plot_dist1/test1.png')"
   ]
  },
  {
   "cell_type": "code",
   "execution_count": null,
   "id": "2a59a5a1",
   "metadata": {},
   "outputs": [],
   "source": []
  }
 ],
 "metadata": {
  "kernelspec": {
   "display_name": "Python 3 (ipykernel)",
   "language": "python",
   "name": "python3"
  },
  "language_info": {
   "codemirror_mode": {
    "name": "ipython",
    "version": 3
   },
   "file_extension": ".py",
   "mimetype": "text/x-python",
   "name": "python",
   "nbconvert_exporter": "python",
   "pygments_lexer": "ipython3",
   "version": "3.10.10"
  },
  "toc": {
   "base_numbering": 1,
   "nav_menu": {},
   "number_sections": true,
   "sideBar": true,
   "skip_h1_title": false,
   "title_cell": "Table of Contents",
   "title_sidebar": "Contents",
   "toc_cell": false,
   "toc_position": {},
   "toc_section_display": true,
   "toc_window_display": true
  }
 },
 "nbformat": 4,
 "nbformat_minor": 5
}

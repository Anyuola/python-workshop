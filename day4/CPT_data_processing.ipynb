{
 "cells": [
  {
   "cell_type": "code",
   "execution_count": null,
   "id": "02a54145",
   "metadata": {
    "ExecuteTime": {
     "end_time": "2023-03-10T06:44:20.881158Z",
     "start_time": "2023-03-10T06:44:18.881547Z"
    }
   },
   "outputs": [],
   "source": [
    "import xarray as xr\n",
    "\n",
    "db=xr.open_dataset('/home/CHIRPSSPIHIGHRES1981to2022.nc')\n",
    "\n",
    "db"
   ]
  },
  {
   "cell_type": "code",
   "execution_count": null,
   "id": "16fc7148",
   "metadata": {
    "ExecuteTime": {
     "end_time": "2023-03-10T06:44:36.259854Z",
     "start_time": "2023-03-10T06:44:36.244630Z"
    }
   },
   "outputs": [],
   "source": [
    "db['time']"
   ]
  },
  {
   "cell_type": "code",
   "execution_count": null,
   "id": "bbb60715",
   "metadata": {
    "ExecuteTime": {
     "end_time": "2023-03-10T07:48:08.461076Z",
     "start_time": "2023-03-10T07:48:08.454451Z"
    }
   },
   "outputs": [],
   "source": [
    "(2022-1981)*12"
   ]
  },
  {
   "cell_type": "code",
   "execution_count": null,
   "id": "a110b3c4",
   "metadata": {
    "ExecuteTime": {
     "end_time": "2023-03-10T07:49:36.497149Z",
     "start_time": "2023-03-10T07:49:36.469052Z"
    }
   },
   "outputs": [],
   "source": [
    "datetimeindex = db.indexes['time'].to_datetimeindex()"
   ]
  },
  {
   "cell_type": "code",
   "execution_count": null,
   "id": "c5951f81",
   "metadata": {
    "ExecuteTime": {
     "end_time": "2023-03-10T07:50:58.335699Z",
     "start_time": "2023-03-10T07:50:58.317109Z"
    }
   },
   "outputs": [],
   "source": [
    "db['month4SPI']"
   ]
  },
  {
   "cell_type": "markdown",
   "id": "44dc26d0",
   "metadata": {},
   "source": [
    "## read CPT txt file \n",
    "\n",
    "Based on https://iri-pycpt.github.io/"
   ]
  },
  {
   "cell_type": "code",
   "execution_count": null,
   "id": "4a05373a",
   "metadata": {
    "ExecuteTime": {
     "end_time": "2023-03-10T11:49:09.830850Z",
     "start_time": "2023-03-10T11:49:09.822505Z"
    }
   },
   "outputs": [],
   "source": [
    "import re\n",
    "f = open('/home/ECMWF_OND_Uganda_SPIReforecast/ECMWF_OND1981_Uganda_SPI-0.03_0.59.txt','r')\n",
    "\n",
    "LIST = []\n",
    "LIST1 = []\n",
    "for line in f:\n",
    "    if re.search('[0-9]{4}', line)!= None:\n",
    "        line= line.strip('\\n')\n",
    "        tokens = line.split('\\t')\n",
    "        LIST.append(tokens)\n",
    "    if re.search('[ \\t]',line) != None:\n",
    "        line= line.strip('\\n')\n",
    "        tokens = line.split('\\t')\n",
    "        LIST1.append(tokens)"
   ]
  },
  {
   "cell_type": "code",
   "execution_count": null,
   "id": "1c8368c6",
   "metadata": {
    "ExecuteTime": {
     "end_time": "2023-03-10T11:49:12.670539Z",
     "start_time": "2023-03-10T11:49:12.655256Z"
    }
   },
   "outputs": [],
   "source": [
    "LIST1"
   ]
  },
  {
   "cell_type": "code",
   "execution_count": null,
   "id": "b34c0257",
   "metadata": {
    "ExecuteTime": {
     "end_time": "2023-03-10T11:46:59.195128Z",
     "start_time": "2023-03-10T11:46:59.186383Z"
    }
   },
   "outputs": [],
   "source": [
    "LIST = []\n",
    "\n",
    "f = open('/home/ECMWF_OND_Uganda_SPIReforecast/ECMWF_OND1981_Uganda_SPI-0.03_0.59.txt','r')\n",
    "\n",
    "for line in f:\n",
    "    #print(line)\n",
    "    print(re.search('[ \\t]+',line))\n",
    "    "
   ]
  },
  {
   "cell_type": "code",
   "execution_count": null,
   "id": "ccd8299b",
   "metadata": {
    "ExecuteTime": {
     "end_time": "2023-03-10T11:41:21.431739Z",
     "start_time": "2023-03-10T11:41:21.418629Z"
    }
   },
   "outputs": [],
   "source": [
    "idx"
   ]
  },
  {
   "cell_type": "code",
   "execution_count": null,
   "id": "e04961a3",
   "metadata": {
    "ExecuteTime": {
     "end_time": "2023-03-10T11:23:12.109449Z",
     "start_time": "2023-03-10T11:23:12.103555Z"
    }
   },
   "outputs": [],
   "source": [
    "time=LIST[0][0].split(',')[3]"
   ]
  },
  {
   "cell_type": "code",
   "execution_count": null,
   "id": "7cabfb45",
   "metadata": {
    "ExecuteTime": {
     "end_time": "2023-03-10T11:21:57.510376Z",
     "start_time": "2023-03-10T11:21:57.500744Z"
    }
   },
   "outputs": [],
   "source": [
    "import numpy as np\n",
    "time = np.array(LIST)[:,0].astype(dt)\n",
    "time"
   ]
  },
  {
   "cell_type": "code",
   "execution_count": null,
   "id": "62b307d2",
   "metadata": {
    "ExecuteTime": {
     "end_time": "2023-03-10T11:26:13.209015Z",
     "start_time": "2023-03-10T11:26:13.195525Z"
    }
   },
   "outputs": [],
   "source": [
    "LIST"
   ]
  },
  {
   "cell_type": "code",
   "execution_count": null,
   "id": "38766208",
   "metadata": {},
   "outputs": [],
   "source": []
  }
 ],
 "metadata": {
  "kernelspec": {
   "display_name": "Python 3 (ipykernel)",
   "language": "python",
   "name": "python3"
  },
  "language_info": {
   "codemirror_mode": {
    "name": "ipython",
    "version": 3
   },
   "file_extension": ".py",
   "mimetype": "text/x-python",
   "name": "python",
   "nbconvert_exporter": "python",
   "pygments_lexer": "ipython3",
   "version": "3.10.10"
  },
  "toc": {
   "base_numbering": 1,
   "nav_menu": {},
   "number_sections": true,
   "sideBar": true,
   "skip_h1_title": false,
   "title_cell": "Table of Contents",
   "title_sidebar": "Contents",
   "toc_cell": false,
   "toc_position": {},
   "toc_section_display": true,
   "toc_window_display": false
  }
 },
 "nbformat": 4,
 "nbformat_minor": 5
}
